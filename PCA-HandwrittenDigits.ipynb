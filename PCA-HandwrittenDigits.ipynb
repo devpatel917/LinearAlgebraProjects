{
 "cells": [
  {
   "cell_type": "code",
   "execution_count": 9,
   "metadata": {},
   "outputs": [],
   "source": [
    "import numpy as np\n",
    "import numpy.linalg as la\n",
    "import pandas as pd\n",
    "import matplotlib.pyplot as plt"
   ]
  },
  {
   "cell_type": "markdown",
   "metadata": {},
   "source": [
    "# Using Principal Component Analysis to classify handwritten digits"
   ]
  },
  {
   "cell_type": "markdown",
   "metadata": {},
   "source": [
    "The MNIST (National Institute of Standards and Technology) datasets contain images of handwritten numerical digits (the *M* stands for 'mixed,' since the samples are due to both U.S. Census Bureau employees and high school students). This database is commonly used to help develop image processing systems and to gauge performance of machine learning models. The full MNIST set contains roughly 6,000 labelled images of each digit '0' through '9'.\n"
   ]
  },
  {
   "cell_type": "markdown",
   "metadata": {},
   "source": [
    "In this example, we will use principal component analysis (PCA) to analyze the MNIST dataset and construct a simple machine learning (ML) model to classify unlabelled images of digits."
   ]
  },
  {
   "cell_type": "markdown",
   "metadata": {},
   "source": [
    "These data are provided in two parts: `images` is a 2d numpy array containing 10,000 images of handwritten digits (a portion of MNIST). The first coordinate indexes the images themselves, each of which is represented by a 1d numpy array of 784 integers between 0 and 255 (think of each image as a $28\\times 28$ matrix flattened into one long vector). `labels` is a 1d numpy array containing the integer label for each digit depicted in the corresponding image.\n",
    "\n",
    "Here, the data provided in `images` comprise the *training set* for our machine learning model."
   ]
  },
  {
   "cell_type": "code",
   "execution_count": 10,
   "metadata": {},
   "outputs": [],
   "source": [
    "images = pd.read_csv('mnist_images_10k.csv.gz', compression='gzip', names=list(range(784))).to_numpy()\n",
    "labels = np.genfromtxt('mnist_labels_10k.csv', dtype=\"int\")"
   ]
  },
  {
   "cell_type": "markdown",
   "metadata": {},
   "source": [
    "However, each image is a flattened row in the 2d array `images`. Let's take a look at the first image:"
   ]
  },
  {
   "cell_type": "code",
   "execution_count": 13,
   "metadata": {},
   "outputs": [
    {
     "data": {
      "text/plain": [
       "(784,)"
      ]
     },
     "execution_count": 13,
     "metadata": {},
     "output_type": "execute_result"
    }
   ],
   "source": [
    "images[0].shape"
   ]
  },
  {
   "cell_type": "markdown",
   "metadata": {},
   "source": [
    "Throughout this exercise, it will sometimes be useful to consider each MNIST image as a 2d numpy array (rather than a 1d one) for visualization. You may achieve this via `numpy.reshape`, passing in `(28,28)` as the new shape. To undo this transformation, you may use `numpy.flatten`."
   ]
  },
  {
   "cell_type": "code",
   "execution_count": 4,
   "metadata": {},
   "outputs": [
    {
     "name": "stdout",
     "output_type": "stream",
     "text": [
      "original shape: (784,)\n",
      "plotting shape: (28, 28)\n",
      "flattened shape: (784,)\n"
     ]
    },
    {
     "data": {
      "text/plain": [
       "<matplotlib.image.AxesImage at 0x7f6f832ef5b0>"
      ]
     },
     "execution_count": 4,
     "metadata": {},
     "output_type": "execute_result"
    },
    {
     "data": {
      "image/png": "[encoded data removed]",
      "text/plain": [
       "<Figure size 432x288 with 1 Axes>"
      ]
     },
     "metadata": {
      "needs_background": "light"
     },
     "output_type": "display_data"
    }
   ],
   "source": [
    "im = images[0]\n",
    "print('original shape: {}'.format(im.shape))\n",
    "im_square = im.reshape((28,28))\n",
    "print('plotting shape: {}'.format(im_square.shape))\n",
    "im_flat = im_square.flatten()\n",
    "print('flattened shape: {}'.format(im_flat.shape))\n",
    "\n",
    "plt.imshow(im_square, cmap=\"gray\")"
   ]
  },
  {
   "cell_type": "markdown",
   "metadata": {},
   "source": [
    "We can visualize the images as follows. To the human eye, many (but not all!) of these digits are clear; 'teaching' a computer to classify these digits requires some work."
   ]
  },
  {
   "cell_type": "code",
   "execution_count": 5,
   "metadata": {},
   "outputs": [
    {
     "data": {
      "image/png": "[encoded data removed]",
      "text/plain": [
       "<Figure size 432x288 with 1 Axes>"
      ]
     },
     "metadata": {
      "needs_background": "light"
     },
     "output_type": "display_data"
    },
    {
     "data": {
      "image/png": "[encoded data removed]",
      "text/plain": [
       "<Figure size 432x288 with 1 Axes>"
      ]
     },
     "metadata": {
      "needs_background": "light"
     },
     "output_type": "display_data"
    },
    {
     "data": {
      "image/png": "[encoded data removed]",
      "text/plain": [
       "<Figure size 432x288 with 1 Axes>"
      ]
     },
     "metadata": {
      "needs_background": "light"
     },
     "output_type": "display_data"
    },
    {
     "data": {
      "image/png": "[encoded data removed]",
      "text/plain": [
       "<Figure size 432x288 with 1 Axes>"
      ]
     },
     "metadata": {
      "needs_background": "light"
     },
     "output_type": "display_data"
    }
   ],
   "source": [
    "example_indices = [1,13,15,16]\n",
    "for i in example_indices:\n",
    "    plt.figure()\n",
    "    plt.imshow(images[i].reshape((28,28)), cmap=\"gray\")"
   ]
  },
  {
   "cell_type": "markdown",
   "metadata": {},
   "source": [
    "We can then check the corresponding labels:"
   ]
  },
  {
   "cell_type": "code",
   "execution_count": 6,
   "metadata": {},
   "outputs": [
    {
     "name": "stdout",
     "output_type": "stream",
     "text": [
      "image 1: 0\n",
      "image 13: 6\n",
      "image 15: 7\n",
      "image 16: 2\n"
     ]
    }
   ],
   "source": [
    "for i in example_indices:\n",
    "    print('image {}: {}'.format(i,labels[i]))"
   ]
  },
  {
   "cell_type": "markdown",
   "metadata": {},
   "source": [
    "## 1) Run PCA on the MNIST images:"
   ]
  },
  {
   "cell_type": "markdown",
   "metadata": {},
   "source": [
    "Recall that PCA requires each axial mean to be 0. Compute the average of the given MNIST images and store the result as `mnist_avg`.\n",
    "\n",
    "*Hint: Keep the image representations flattened, so the shape should be `(784,)`.*"
   ]
  },
  {
   "cell_type": "code",
   "execution_count": 46,
   "metadata": {},
   "outputs": [],
   "source": [
    "#grade\n",
    "\n",
    "averageArray = np.zeros((len(images[0]),))\n",
    "\n",
    "\n",
    "for j in range(len(images[0])):\n",
    "    pixelSum = 0\n",
    "    for i in range(len(images)):\n",
    "        pixelSum += images[i][j]\n",
    "        \n",
    "    averageArray[j] = pixelSum/10000\n",
    "    \n",
    "mnist_avg = averageArray"
   ]
  },
  {
   "cell_type": "code",
   "execution_count": 47,
   "metadata": {},
   "outputs": [
    {
     "data": {
      "text/plain": [
       "<matplotlib.image.AxesImage at 0x7f6f830bff10>"
      ]
     },
     "execution_count": 47,
     "metadata": {},
     "output_type": "execute_result"
    },
    {
     "data": {
      "image/png": "[encoded data removed]",
      "text/plain": [
       "<Figure size 432x288 with 1 Axes>"
      ]
     },
     "metadata": {
      "needs_background": "light"
     },
     "output_type": "display_data"
    }
   ],
   "source": [
    "plt.imshow(mnist_avg.reshape((28,28)), cmap='gray')"
   ]
  },
  {
   "cell_type": "markdown",
   "metadata": {},
   "source": [
    "Shift each of the (flat) MNIST images by `mnist_avg` so that the shifted dataset has an average equal to the 'image' composed of all 0 entries. This is a necessary step for PCA. Store the result as a 2d numpy array `images_sh`."
   ]
  },
  {
   "cell_type": "code",
   "execution_count": 48,
   "metadata": {},
   "outputs": [],
   "source": [
    "#grade\n",
    "for i in range(len(images)):\n",
    "    images[i] -= mnist_avg\n",
    "    \n",
    "images_sh = images"
   ]
  },
  {
   "cell_type": "markdown",
   "metadata": {},
   "source": [
    "You have finished pre-processing the data and are now prepared to conduct PCA on the MNIST images. Compute the SVD of the numpy array representing the shifted MNIST images. Store the 1d numpy array of singular values as `S` and the 2d numpy array of right singular vectors (as columns) as `V`.\n",
    "\n",
    "*Hint: Recall that `numpy.linalg.svd` returns the triple `U, S, Vt` where `U` stores $U$, `S` stores $\\Sigma$ (as a 1d numpy array for the diagonal), and `Vt` stores $V^T$ from the SVD decomposition $U\\Sigma V^T$ of the input matrix.*\n",
    "\n",
    "Make sure to compute the reduced form of the SVD (`full_matrices=False`), otherwise the computation will take too long, and the auto-grader will abort."
   ]
  },
  {
   "cell_type": "code",
   "execution_count": 63,
   "metadata": {},
   "outputs": [],
   "source": [
    "#grade\n",
    "U, S, Vt = la.svd(images_sh, full_matrices=False )\n",
    "\n",
    "V = Vt.T"
   ]
  },
  {
   "cell_type": "markdown",
   "metadata": {},
   "source": [
    "------------------------"
   ]
  },
  {
   "cell_type": "markdown",
   "metadata": {},
   "source": [
    "## 2) Apply dimension reduction to PCA:"
   ]
  },
  {
   "cell_type": "markdown",
   "metadata": {},
   "source": [
    "In the first part, we found the SVD decomposition of a matrix representation of the given MNIST images. However, these matrices remain very large. In practice, PCA is used to reduce the dimension of data (without compromising the crucial features), so we will pare down our eigenanalysis to make use of only the most 'principal' components and efficiently capture the distinguishing features of the handwritten digits.\n",
    "\n",
    "We do this in part to avoid the *curse of dimensionality*, which degrades model accuracy as the number of feature dimensions increases beyond a certain threshold! Though our data is technically $784$-dimensional, we can intuit that  what the data represents (numerical digits) is lower-dimensional. We avoid overfitting our model, in part, by conducting this dimesion reduction and by only maintaining the principal components.\n",
    "\n",
    "But how many should we keep?"
   ]
  },
  {
   "cell_type": "markdown",
   "metadata": {},
   "source": [
    "Recall that in SVD decompositions, the singular values are ordered from largest to smallest magnitude. We only want to move forward with the highest magnitude singular values (and their corresponding singular vectors). In the plot below, we can see that the singular values gradually taper off to relatively low values. You may adjust the plot input to 'zoom in' on the earlier indices to see how quickly the values initially decrease."
   ]
  },
  {
   "cell_type": "code",
   "execution_count": 64,
   "metadata": {},
   "outputs": [
    {
     "data": {
      "image/png": "[encoded data removed]",
      "text/plain": [
       "<Figure size 864x432 with 1 Axes>"
      ]
     },
     "metadata": {
      "needs_background": "light"
     },
     "output_type": "display_data"
    }
   ],
   "source": [
    "plt.figure(figsize=(12,6))\n",
    "plt.plot(S, '.-')\n",
    "plt.xlabel('index')\n",
    "plt.ylabel('singular value')\n",
    "plt.title('Singular values of MNIST images')\n",
    "plt.show()"
   ]
  },
  {
   "cell_type": "markdown",
   "metadata": {},
   "source": [
    "One way of visualizing the same information is to \"normalize\" the singular values. In the following code snippet, we only show the first 50 singular values:"
   ]
  },
  {
   "cell_type": "code",
   "execution_count": 65,
   "metadata": {},
   "outputs": [
    {
     "data": {
      "text/plain": [
       "(0.0, 50.0)"
      ]
     },
     "execution_count": 65,
     "metadata": {},
     "output_type": "execute_result"
    },
    {
     "data": {
      "image/png": "[encoded data removed]",
      "text/plain": [
       "<Figure size 864x432 with 1 Axes>"
      ]
     },
     "metadata": {
      "needs_background": "light"
     },
     "output_type": "display_data"
    }
   ],
   "source": [
    "plt.figure(figsize=(12,6))\n",
    "plt.bar(range(len(S)),S/sum(S))\n",
    "plt.xlabel('index')\n",
    "plt.ylabel('singular value')\n",
    "plt.title('\"Normalized\" Singular values of MNIST images')\n",
    "plt.xlim(0,50)"
   ]
  },
  {
   "cell_type": "markdown",
   "metadata": {},
   "source": [
    "We will now define a 1d array that has the cumulative sum of the normalized singular values.\n",
    "\n",
    "First, compute the normalized singular values by dividing each element of `S` by the sum of all singular values.  Store this array as `S_norm`.\n",
    "\n",
    "Then, compute the cumulative sums from this normalized array. You may find the function [numpy.cumsum](https://numpy.org/doc/stable/reference/generated/numpy.cumsum.html) beneficial (alternatively, you could implement this using a quick for loop). \n",
    "Store the cumulative sum array in the variable `cum_var`."
   ]
  },
  {
   "cell_type": "code",
   "execution_count": 103,
   "metadata": {},
   "outputs": [],
   "source": [
    "#grade\n",
    "\n",
    "S_norm = S/np.cumsum(S)[len(S) - 1]\n",
    "\n",
    "cum_var = np.cumsum(S_norm)"
   ]
  },
  {
   "cell_type": "code",
   "execution_count": 104,
   "metadata": {},
   "outputs": [
    {
     "data": {
      "image/png": "[encoded data removed]",
      "text/plain": [
       "<Figure size 864x432 with 1 Axes>"
      ]
     },
     "metadata": {
      "needs_background": "light"
     },
     "output_type": "display_data"
    }
   ],
   "source": [
    "plt.figure(figsize=(12,6))\n",
    "plt.plot(range(len(S)), cum_var)\n",
    "plt.title('Cumulative Singular values of MNIST images')\n",
    "plt.grid()"
   ]
  },
  {
   "cell_type": "markdown",
   "metadata": {},
   "source": [
    "One way to read this plot is by identifying, for example, that the first 100 singular values contain 60% of the total information (this is called *explained variance*, and you can learn more about this by taking ML coursework). In some cases, we can set this percent as the threshold to find out the number of principal components that better represent the dataset.\n",
    "\n",
    "Another approach is to find when the decay in the singular values produce a \"kink\". From the plot above (of normalized singular values), we can visually see that a kink first happens after the sixth singular value.\n",
    "\n",
    "In essence, you want to find the earliest singular value which marks an increased difference from the previous one. Generally, the (absolute) difference between consecutive singular values should decrease, so identifying the earliest *increase* in these differences will capture any kinks like the one we see in the above plot.\n",
    "\n",
    "You can compute the array of the difference between two consecutive singular values as:"
   ]
  },
  {
   "cell_type": "code",
   "execution_count": 105,
   "metadata": {},
   "outputs": [],
   "source": [
    "S_diff = np.append(S_norm[0], np.abs(S_norm[1:] - S_norm[:-1]))"
   ]
  },
  {
   "cell_type": "code",
   "execution_count": 106,
   "metadata": {},
   "outputs": [
    {
     "data": {
      "text/plain": [
       "(0.0, 20.0)"
      ]
     },
     "execution_count": 106,
     "metadata": {},
     "output_type": "execute_result"
    },
    {
     "data": {
      "image/png": "[encoded data removed]",
      "text/plain": [
       "<Figure size 432x288 with 1 Axes>"
      ]
     },
     "metadata": {
      "needs_background": "light"
     },
     "output_type": "display_data"
    }
   ],
   "source": [
    "plt.bar(np.arange(len(S)), S_diff)\n",
    "plt.xlim(0,20)"
   ]
  },
  {
   "cell_type": "markdown",
   "metadata": {},
   "source": [
    "How can we find the first time the difference (stored in `S_diff`) stops being monotonically decreasing? We can use something very similar to the above method, by constructing an array `S_dec` of boolean values (True/False) based on whether or not a given difference is greater than the one before it. We then find the index of the first True value:"
   ]
  },
  {
   "cell_type": "code",
   "execution_count": 107,
   "metadata": {},
   "outputs": [
    {
     "name": "stdout",
     "output_type": "stream",
     "text": [
      "5\n"
     ]
    }
   ],
   "source": [
    "S_dec = (S_diff[1:] - S_diff[:-1] > 0)\n",
    "for ind,x in enumerate(S_dec):\n",
    "    if x:\n",
    "        break\n",
    "print(ind)"
   ]
  },
  {
   "cell_type": "markdown",
   "metadata": {},
   "source": [
    "Here, `ind` indicates the array index for the last singular value before the \"kink\" occurs. \n",
    "\n",
    "We will denote `d = ind + 1` as the dimension of the reduced MNIST image features.  Note that this matches our previous visual inspection."
   ]
  },
  {
   "cell_type": "code",
   "execution_count": 100,
   "metadata": {},
   "outputs": [
    {
     "name": "stdout",
     "output_type": "stream",
     "text": [
      "6\n"
     ]
    }
   ],
   "source": [
    "d = ind + 1\n",
    "print(d)"
   ]
  },
  {
   "cell_type": "markdown",
   "metadata": {},
   "source": [
    "Now, we want to reduce the dimension of our dataset in hopes that we can still easily capture the underlying features of the MNIST data. \n",
    "\n",
    "Write a function `reduce` which takes as input a 2d numpy array `A` and an integer value `m`, then returns as output the array `A` but in which the columns $j = m, m+1, m+2, ...$ are all set to 0. Recall that $j$ starts at zero (and hence we have the matrix `A` with $m$ non-zero columns). \n",
    "\n",
    "*Hint: Be careful that your function does not change the input matrix `A` (recall that Python is pass-by-object-reference); ways to ensure this include initializing `B` with `numpy.zeros_like(A)` or `A.copy()`, among others.*\n",
    "\n",
    "```python\n",
    "def reduce(A, m):\n",
    "    # A is a 2d numpy array with shape (n,k)\n",
    "    # compute B, a 2d numpy array, which has shape (n,k) and has the same first m columns as A\n",
    "    # the remaining columns of B are all 0\n",
    "    return B\n",
    "```   "
   ]
  },
  {
   "cell_type": "code",
   "execution_count": 101,
   "metadata": {},
   "outputs": [],
   "source": [
    "#grade\n",
    "\n",
    "def reduce(A, m):\n",
    "    \n",
    "    B = A.copy()\n",
    "    \n",
    "    \n",
    "    for i in range(m, len(A[0])):\n",
    "        B[:, i] = 0 \n",
    "        \n",
    "    return B\n"
   ]
  },
  {
   "cell_type": "markdown",
   "metadata": {},
   "source": [
    "This function `reduce` will enact the dimension reduction to our PCA. Call `reduce` on the right singular vectors array `V` from the first part and your computed dimension `d` from above; store the output as `Vd`."
   ]
  },
  {
   "cell_type": "code",
   "execution_count": 102,
   "metadata": {},
   "outputs": [],
   "source": [
    "#grade\n",
    "Vd = reduce(V, d)"
   ]
  },
  {
   "cell_type": "markdown",
   "metadata": {},
   "source": [
    "The remaining right singular vectors (i.e. the nonzero columns of `Vd`) are the principal components!"
   ]
  },
  {
   "cell_type": "markdown",
   "metadata": {},
   "source": [
    "-----------------------"
   ]
  },
  {
   "cell_type": "markdown",
   "metadata": {},
   "source": [
    "### 3) Building a nearest-neighbor classifier on MNIST:"
   ]
  },
  {
   "cell_type": "markdown",
   "metadata": {},
   "source": [
    "The $k$-nearest neighbors (kNN) algorithm is a supervised machine learning classifier that, once trained, considers an unlabeled data point in the feature space and classifies that point according to the plurality of classifications given to the point's $k$-many nearest neighbors.\n",
    "\n",
    "For this part, we will build the kNN model for $k=1$, so we reduce to the case of nearest-neighbor (NN) classification. We will consider an unlabelled MNIST digit and identify the labelled MNIST image lying closest to it in the feature space (i.e. the space of flattened array representations of images), then assign that image's classification to the unknown digit."
   ]
  },
  {
   "cell_type": "markdown",
   "metadata": {},
   "source": [
    "Compute the projection of each given MNIST image onto the principal components. Store the result as a 2d numpy array `images_pc` such that each row corresponds to the projection of a shifted MNIST image on the principal component space.\n",
    "\n",
    "*Hint: Use the shifted data `images_sh` from the first part and the dimension-reduced right singular vector matrix `Vd` from the second part.*"
   ]
  },
  {
   "cell_type": "code",
   "execution_count": 110,
   "metadata": {},
   "outputs": [],
   "source": [
    "#grade\n",
    "\n",
    "images_pc = np.zeros((10000, 784))\n",
    "\n",
    "for i in range(len(images)):\n",
    "    \n",
    "    images_pc[i] = images_sh[i] @ Vd\n",
    "    "
   ]
  },
  {
   "cell_type": "markdown",
   "metadata": {},
   "source": [
    "Now, we introduce an unlabelled MNIST image `unknown`, which is not contained in the given *training set* `images`. We can think of this unknown digit as being part of a *testing set* for our machine learning model. Our goal is to use our PCA to classify this image as one of the digits 0 through 9."
   ]
  },
  {
   "cell_type": "code",
   "execution_count": 111,
   "metadata": {},
   "outputs": [
    {
     "data": {
      "text/plain": [
       "<matplotlib.image.AxesImage at 0x7f6f82cc7cd0>"
      ]
     },
     "execution_count": 111,
     "metadata": {},
     "output_type": "execute_result"
    },
    {
     "data": {
      "image/png": "[encoded data removed]",
      "text/plain": [
       "<Figure size 432x288 with 1 Axes>"
      ]
     },
     "metadata": {
      "needs_background": "light"
     },
     "output_type": "display_data"
    }
   ],
   "source": [
    "unknown = np.genfromtxt('unknown_image.csv')\n",
    "plt.imshow(unknown.reshape((28,28)), cmap=\"gray\")"
   ]
  },
  {
   "cell_type": "markdown",
   "metadata": {},
   "source": [
    "Compute the projection of `unknown` onto the principal components as above, then store the result as `unknown_pc`."
   ]
  },
  {
   "cell_type": "code",
   "execution_count": 155,
   "metadata": {},
   "outputs": [],
   "source": [
    "#grade\n",
    "unknown_pc = (unknown - mnist_avg) @ Vd"
   ]
  },
  {
   "cell_type": "code",
   "execution_count": 156,
   "metadata": {},
   "outputs": [
    {
     "data": {
      "image/png": "[encoded data removed]",
      "text/plain": [
       "<Figure size 432x288 with 1 Axes>"
      ]
     },
     "metadata": {
      "needs_background": "light"
     },
     "output_type": "display_data"
    }
   ],
   "source": [
    "plt.figure()\n",
    "plt.bar(list(range(d)),height=unknown_pc[:d])\n",
    "plt.xlabel('principal component')\n",
    "plt.ylabel('weight')\n",
    "plt.title('Principal component projection of unknown MNIST digit')\n",
    "plt.show()"
   ]
  },
  {
   "cell_type": "markdown",
   "metadata": {},
   "source": [
    "We now must find the labelled MNIST image which lies closest to the unknown image. Here, 'closest' will be computed according to the Euclidean norm in the principal component space, as in Lesson 11 of the lab. Store the index of the nearest neighbor as `n`.\n",
    "\n",
    "*Hint: Use `numpy.linalg.norm` to compute the Euclidean norm of the differences between the principal component projections of labelled MNIST images and the principal component projection of the unknown digit. Then use `numpy.argmin` to find the index of the labeled image corresponding to the smallest distance (the nearest neighbor).*"
   ]
  },
  {
   "cell_type": "code",
   "execution_count": 171,
   "metadata": {},
   "outputs": [
    {
     "name": "stdout",
     "output_type": "stream",
     "text": [
      "642\n"
     ]
    }
   ],
   "source": [
    "#grade\n",
    "\n",
    "min_dif = la.norm(images_pc[0] - unknown_pc)\n",
    "\n",
    "for i in range(1, len(images_pc)):\n",
    "    if la.norm(images_pc[i] - unknown_pc) < min_dif:\n",
    "        n = i\n",
    "        min_dif = la.norm(images_pc[i] - unknown_pc)\n",
    "        \n",
    "print(n)\n"
   ]
  },
  {
   "cell_type": "code",
   "execution_count": 172,
   "metadata": {},
   "outputs": [
    {
     "data": {
      "text/plain": [
       "<matplotlib.image.AxesImage at 0x7f6f82c7d130>"
      ]
     },
     "execution_count": 172,
     "metadata": {},
     "output_type": "execute_result"
    },
    {
     "data": {
      "image/png": "[encoded data removed]",
      "text/plain": [
       "<Figure size 432x288 with 1 Axes>"
      ]
     },
     "metadata": {
      "needs_background": "light"
     },
     "output_type": "display_data"
    }
   ],
   "source": [
    "plt.imshow(images[n].reshape((28,28)), cmap=\"gray\")"
   ]
  },
  {
   "cell_type": "markdown",
   "metadata": {},
   "source": [
    "Finally, we assign the label of the nearest neighbor as the label for our unknown MNIST digit. Store this integer label as `unknown_label`."
   ]
  },
  {
   "cell_type": "code",
   "execution_count": 173,
   "metadata": {},
   "outputs": [],
   "source": [
    "#grade\n",
    "unknown_label = 2"
   ]
  },
  {
   "cell_type": "markdown",
   "metadata": {},
   "source": [
    "At your leisure, compare this label to the one you would have assigned to the unknown digit just by looking at it; do you agree with the conclusion of your machine learning model?"
   ]
  },
  {
   "cell_type": "code",
   "execution_count": 174,
   "metadata": {},
   "outputs": [
    {
     "name": "stdout",
     "output_type": "stream",
     "text": [
      "2\n"
     ]
    }
   ],
   "source": [
    "print(unknown_label)"
   ]
  },
  {
   "cell_type": "code",
   "execution_count": null,
   "metadata": {},
   "outputs": [],
   "source": []
  }
 ],
 "metadata": {
  "kernelspec": {
   "display_name": "Python 3",
   "language": "python",
   "name": "python3"
  },
  "language_info": {
   "codemirror_mode": {
    "name": "ipython",
    "version": 3
   },
   "file_extension": ".py",
   "mimetype": "text/x-python",
   "name": "python",
   "nbconvert_exporter": "python",
   "pygments_lexer": "ipython3",
   "version": "3.8.6"
  }
 },
 "nbformat": 4,
 "nbformat_minor": 4
}
